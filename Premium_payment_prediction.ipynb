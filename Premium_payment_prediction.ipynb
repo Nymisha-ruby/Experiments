{
  "nbformat": 4,
  "nbformat_minor": 0,
  "metadata": {
    "colab": {
      "name": "Internshala.ipynb",
      "provenance": [],
      "collapsed_sections": [],
      "mount_file_id": "1HdpXEksuZkoRRobnf_5Jov9imr_FZUO6",
      "authorship_tag": "ABX9TyPnT/qC02AqPgpbjl9vhR2j",
      "include_colab_link": true
    },
    "kernelspec": {
      "name": "python3",
      "display_name": "Python 3"
    },
    "language_info": {
      "name": "python"
    }
  },
  "cells": [
    {
      "cell_type": "markdown",
      "metadata": {
        "id": "view-in-github",
        "colab_type": "text"
      },
      "source": [
        "<a href=\"https://colab.research.google.com/github/Nymisha-ruby/Experiments/blob/main/Premium_payment_prediction.ipynb\" target=\"_parent\"><img src=\"https://colab.research.google.com/assets/colab-badge.svg\" alt=\"Open In Colab\"/></a>"
      ]
    },
    {
      "cell_type": "code",
      "metadata": {
        "id": "CRHuR-ovv9wI"
      },
      "source": [
        "import numpy as np\n",
        "import pandas as pd\n",
        "import matplotlib.pyplot as plt\n",
        "%matplotlib inline\n",
        "import seaborn as sns"
      ],
      "execution_count": null,
      "outputs": []
    },
    {
      "cell_type": "code",
      "metadata": {
        "id": "L3c3etyawCAx"
      },
      "source": [
        "tr_data = pd.read_csv('/content/drive/MyDrive/Premium Payment Prediction/train_premium.csv') \n",
        "ts_data = pd.read_csv('/content/drive/MyDrive/Premium Payment Prediction/test_premium.csv')"
      ],
      "execution_count": null,
      "outputs": []
    },
    {
      "cell_type": "code",
      "metadata": {
        "colab": {
          "base_uri": "https://localhost:8080/",
          "height": 384
        },
        "id": "mIiOHqxYwMH-",
        "outputId": "0ca54343-6513-4854-9cb3-7ff1a403a18e"
      },
      "source": [
        "tr_data.head(10)"
      ],
      "execution_count": null,
      "outputs": [
        {
          "output_type": "execute_result",
          "data": {
            "text/html": [
              "<div>\n",
              "<style scoped>\n",
              "    .dataframe tbody tr th:only-of-type {\n",
              "        vertical-align: middle;\n",
              "    }\n",
              "\n",
              "    .dataframe tbody tr th {\n",
              "        vertical-align: top;\n",
              "    }\n",
              "\n",
              "    .dataframe thead th {\n",
              "        text-align: right;\n",
              "    }\n",
              "</style>\n",
              "<table border=\"1\" class=\"dataframe\">\n",
              "  <thead>\n",
              "    <tr style=\"text-align: right;\">\n",
              "      <th></th>\n",
              "      <th>id</th>\n",
              "      <th>perc_premium_paid_by_cash_credit</th>\n",
              "      <th>age_in_days</th>\n",
              "      <th>Income</th>\n",
              "      <th>Count_3-6_months_late</th>\n",
              "      <th>Count_6-12_months_late</th>\n",
              "      <th>Count_more_than_12_months_late</th>\n",
              "      <th>application_underwriting_score</th>\n",
              "      <th>no_of_premiums_paid</th>\n",
              "      <th>sourcing_channel</th>\n",
              "      <th>residence_area_type</th>\n",
              "      <th>target</th>\n",
              "    </tr>\n",
              "  </thead>\n",
              "  <tbody>\n",
              "    <tr>\n",
              "      <th>0</th>\n",
              "      <td>110936</td>\n",
              "      <td>0.429</td>\n",
              "      <td>12058</td>\n",
              "      <td>355060</td>\n",
              "      <td>0.0</td>\n",
              "      <td>0.0</td>\n",
              "      <td>0.0</td>\n",
              "      <td>99.02</td>\n",
              "      <td>13</td>\n",
              "      <td>C</td>\n",
              "      <td>Urban</td>\n",
              "      <td>1</td>\n",
              "    </tr>\n",
              "    <tr>\n",
              "      <th>1</th>\n",
              "      <td>41492</td>\n",
              "      <td>0.010</td>\n",
              "      <td>21546</td>\n",
              "      <td>315150</td>\n",
              "      <td>0.0</td>\n",
              "      <td>0.0</td>\n",
              "      <td>0.0</td>\n",
              "      <td>99.89</td>\n",
              "      <td>21</td>\n",
              "      <td>A</td>\n",
              "      <td>Urban</td>\n",
              "      <td>1</td>\n",
              "    </tr>\n",
              "    <tr>\n",
              "      <th>2</th>\n",
              "      <td>31300</td>\n",
              "      <td>0.917</td>\n",
              "      <td>17531</td>\n",
              "      <td>84140</td>\n",
              "      <td>2.0</td>\n",
              "      <td>3.0</td>\n",
              "      <td>1.0</td>\n",
              "      <td>98.69</td>\n",
              "      <td>7</td>\n",
              "      <td>C</td>\n",
              "      <td>Rural</td>\n",
              "      <td>0</td>\n",
              "    </tr>\n",
              "    <tr>\n",
              "      <th>3</th>\n",
              "      <td>19415</td>\n",
              "      <td>0.049</td>\n",
              "      <td>15341</td>\n",
              "      <td>250510</td>\n",
              "      <td>0.0</td>\n",
              "      <td>0.0</td>\n",
              "      <td>0.0</td>\n",
              "      <td>99.57</td>\n",
              "      <td>9</td>\n",
              "      <td>A</td>\n",
              "      <td>Urban</td>\n",
              "      <td>1</td>\n",
              "    </tr>\n",
              "    <tr>\n",
              "      <th>4</th>\n",
              "      <td>99379</td>\n",
              "      <td>0.052</td>\n",
              "      <td>31400</td>\n",
              "      <td>198680</td>\n",
              "      <td>0.0</td>\n",
              "      <td>0.0</td>\n",
              "      <td>0.0</td>\n",
              "      <td>99.87</td>\n",
              "      <td>12</td>\n",
              "      <td>B</td>\n",
              "      <td>Urban</td>\n",
              "      <td>1</td>\n",
              "    </tr>\n",
              "    <tr>\n",
              "      <th>5</th>\n",
              "      <td>59951</td>\n",
              "      <td>0.540</td>\n",
              "      <td>17527</td>\n",
              "      <td>282080</td>\n",
              "      <td>2.0</td>\n",
              "      <td>0.0</td>\n",
              "      <td>0.0</td>\n",
              "      <td>99.18</td>\n",
              "      <td>9</td>\n",
              "      <td>B</td>\n",
              "      <td>Rural</td>\n",
              "      <td>1</td>\n",
              "    </tr>\n",
              "    <tr>\n",
              "      <th>6</th>\n",
              "      <td>54031</td>\n",
              "      <td>1.000</td>\n",
              "      <td>24829</td>\n",
              "      <td>118400</td>\n",
              "      <td>0.0</td>\n",
              "      <td>0.0</td>\n",
              "      <td>0.0</td>\n",
              "      <td>99.05</td>\n",
              "      <td>11</td>\n",
              "      <td>B</td>\n",
              "      <td>Urban</td>\n",
              "      <td>1</td>\n",
              "    </tr>\n",
              "    <tr>\n",
              "      <th>7</th>\n",
              "      <td>94290</td>\n",
              "      <td>1.000</td>\n",
              "      <td>21911</td>\n",
              "      <td>180240</td>\n",
              "      <td>1.0</td>\n",
              "      <td>6.0</td>\n",
              "      <td>4.0</td>\n",
              "      <td>99.33</td>\n",
              "      <td>3</td>\n",
              "      <td>A</td>\n",
              "      <td>Urban</td>\n",
              "      <td>0</td>\n",
              "    </tr>\n",
              "    <tr>\n",
              "      <th>8</th>\n",
              "      <td>93730</td>\n",
              "      <td>0.621</td>\n",
              "      <td>9868</td>\n",
              "      <td>92520</td>\n",
              "      <td>0.0</td>\n",
              "      <td>0.0</td>\n",
              "      <td>0.0</td>\n",
              "      <td>99.58</td>\n",
              "      <td>4</td>\n",
              "      <td>A</td>\n",
              "      <td>Urban</td>\n",
              "      <td>1</td>\n",
              "    </tr>\n",
              "    <tr>\n",
              "      <th>9</th>\n",
              "      <td>84844</td>\n",
              "      <td>0.908</td>\n",
              "      <td>23008</td>\n",
              "      <td>107180</td>\n",
              "      <td>2.0</td>\n",
              "      <td>0.0</td>\n",
              "      <td>0.0</td>\n",
              "      <td>98.91</td>\n",
              "      <td>11</td>\n",
              "      <td>A</td>\n",
              "      <td>Rural</td>\n",
              "      <td>0</td>\n",
              "    </tr>\n",
              "  </tbody>\n",
              "</table>\n",
              "</div>"
            ],
            "text/plain": [
              "       id  perc_premium_paid_by_cash_credit  ...  residence_area_type  target\n",
              "0  110936                             0.429  ...                Urban       1\n",
              "1   41492                             0.010  ...                Urban       1\n",
              "2   31300                             0.917  ...                Rural       0\n",
              "3   19415                             0.049  ...                Urban       1\n",
              "4   99379                             0.052  ...                Urban       1\n",
              "5   59951                             0.540  ...                Rural       1\n",
              "6   54031                             1.000  ...                Urban       1\n",
              "7   94290                             1.000  ...                Urban       0\n",
              "8   93730                             0.621  ...                Urban       1\n",
              "9   84844                             0.908  ...                Rural       0\n",
              "\n",
              "[10 rows x 12 columns]"
            ]
          },
          "metadata": {
            "tags": []
          },
          "execution_count": 3
        }
      ]
    },
    {
      "cell_type": "code",
      "metadata": {
        "colab": {
          "base_uri": "https://localhost:8080/",
          "height": 384
        },
        "id": "qnKmrYiOfaaG",
        "outputId": "c33fa371-d607-401f-85bd-b53cabd826e3"
      },
      "source": [
        "ts_data.head(10)"
      ],
      "execution_count": null,
      "outputs": [
        {
          "output_type": "execute_result",
          "data": {
            "text/html": [
              "<div>\n",
              "<style scoped>\n",
              "    .dataframe tbody tr th:only-of-type {\n",
              "        vertical-align: middle;\n",
              "    }\n",
              "\n",
              "    .dataframe tbody tr th {\n",
              "        vertical-align: top;\n",
              "    }\n",
              "\n",
              "    .dataframe thead th {\n",
              "        text-align: right;\n",
              "    }\n",
              "</style>\n",
              "<table border=\"1\" class=\"dataframe\">\n",
              "  <thead>\n",
              "    <tr style=\"text-align: right;\">\n",
              "      <th></th>\n",
              "      <th>id</th>\n",
              "      <th>perc_premium_paid_by_cash_credit</th>\n",
              "      <th>age_in_days</th>\n",
              "      <th>Income</th>\n",
              "      <th>Count_3-6_months_late</th>\n",
              "      <th>Count_6-12_months_late</th>\n",
              "      <th>Count_more_than_12_months_late</th>\n",
              "      <th>application_underwriting_score</th>\n",
              "      <th>no_of_premiums_paid</th>\n",
              "      <th>sourcing_channel</th>\n",
              "      <th>residence_area_type</th>\n",
              "    </tr>\n",
              "  </thead>\n",
              "  <tbody>\n",
              "    <tr>\n",
              "      <th>0</th>\n",
              "      <td>649</td>\n",
              "      <td>0.001</td>\n",
              "      <td>27384</td>\n",
              "      <td>51150</td>\n",
              "      <td>0.0</td>\n",
              "      <td>0.0</td>\n",
              "      <td>0.0</td>\n",
              "      <td>99.89</td>\n",
              "      <td>7</td>\n",
              "      <td>A</td>\n",
              "      <td>Rural</td>\n",
              "    </tr>\n",
              "    <tr>\n",
              "      <th>1</th>\n",
              "      <td>81136</td>\n",
              "      <td>0.124</td>\n",
              "      <td>23735</td>\n",
              "      <td>285140</td>\n",
              "      <td>0.0</td>\n",
              "      <td>0.0</td>\n",
              "      <td>0.0</td>\n",
              "      <td>98.93</td>\n",
              "      <td>19</td>\n",
              "      <td>A</td>\n",
              "      <td>Urban</td>\n",
              "    </tr>\n",
              "    <tr>\n",
              "      <th>2</th>\n",
              "      <td>70762</td>\n",
              "      <td>1.000</td>\n",
              "      <td>17170</td>\n",
              "      <td>186030</td>\n",
              "      <td>0.0</td>\n",
              "      <td>0.0</td>\n",
              "      <td>0.0</td>\n",
              "      <td>NaN</td>\n",
              "      <td>2</td>\n",
              "      <td>B</td>\n",
              "      <td>Urban</td>\n",
              "    </tr>\n",
              "    <tr>\n",
              "      <th>3</th>\n",
              "      <td>53935</td>\n",
              "      <td>0.198</td>\n",
              "      <td>16068</td>\n",
              "      <td>123540</td>\n",
              "      <td>0.0</td>\n",
              "      <td>0.0</td>\n",
              "      <td>0.0</td>\n",
              "      <td>99.00</td>\n",
              "      <td>11</td>\n",
              "      <td>B</td>\n",
              "      <td>Rural</td>\n",
              "    </tr>\n",
              "    <tr>\n",
              "      <th>4</th>\n",
              "      <td>15476</td>\n",
              "      <td>0.041</td>\n",
              "      <td>10591</td>\n",
              "      <td>200020</td>\n",
              "      <td>1.0</td>\n",
              "      <td>0.0</td>\n",
              "      <td>0.0</td>\n",
              "      <td>99.17</td>\n",
              "      <td>14</td>\n",
              "      <td>A</td>\n",
              "      <td>Rural</td>\n",
              "    </tr>\n",
              "    <tr>\n",
              "      <th>5</th>\n",
              "      <td>64797</td>\n",
              "      <td>0.112</td>\n",
              "      <td>16065</td>\n",
              "      <td>245130</td>\n",
              "      <td>0.0</td>\n",
              "      <td>0.0</td>\n",
              "      <td>0.0</td>\n",
              "      <td>98.88</td>\n",
              "      <td>7</td>\n",
              "      <td>B</td>\n",
              "      <td>Rural</td>\n",
              "    </tr>\n",
              "    <tr>\n",
              "      <th>6</th>\n",
              "      <td>67412</td>\n",
              "      <td>0.325</td>\n",
              "      <td>17167</td>\n",
              "      <td>388050</td>\n",
              "      <td>6.0</td>\n",
              "      <td>0.0</td>\n",
              "      <td>0.0</td>\n",
              "      <td>99.00</td>\n",
              "      <td>27</td>\n",
              "      <td>C</td>\n",
              "      <td>Urban</td>\n",
              "    </tr>\n",
              "    <tr>\n",
              "      <th>7</th>\n",
              "      <td>44241</td>\n",
              "      <td>0.362</td>\n",
              "      <td>20085</td>\n",
              "      <td>99880</td>\n",
              "      <td>3.0</td>\n",
              "      <td>0.0</td>\n",
              "      <td>0.0</td>\n",
              "      <td>98.40</td>\n",
              "      <td>14</td>\n",
              "      <td>A</td>\n",
              "      <td>Urban</td>\n",
              "    </tr>\n",
              "    <tr>\n",
              "      <th>8</th>\n",
              "      <td>5069</td>\n",
              "      <td>0.115</td>\n",
              "      <td>23008</td>\n",
              "      <td>360040</td>\n",
              "      <td>0.0</td>\n",
              "      <td>0.0</td>\n",
              "      <td>0.0</td>\n",
              "      <td>99.88</td>\n",
              "      <td>6</td>\n",
              "      <td>D</td>\n",
              "      <td>Rural</td>\n",
              "    </tr>\n",
              "    <tr>\n",
              "      <th>9</th>\n",
              "      <td>16615</td>\n",
              "      <td>0.021</td>\n",
              "      <td>21906</td>\n",
              "      <td>510040</td>\n",
              "      <td>0.0</td>\n",
              "      <td>0.0</td>\n",
              "      <td>0.0</td>\n",
              "      <td>99.89</td>\n",
              "      <td>11</td>\n",
              "      <td>B</td>\n",
              "      <td>Urban</td>\n",
              "    </tr>\n",
              "  </tbody>\n",
              "</table>\n",
              "</div>"
            ],
            "text/plain": [
              "      id  perc_premium_paid_by_cash_credit  ...  sourcing_channel  residence_area_type\n",
              "0    649                             0.001  ...                 A                Rural\n",
              "1  81136                             0.124  ...                 A                Urban\n",
              "2  70762                             1.000  ...                 B                Urban\n",
              "3  53935                             0.198  ...                 B                Rural\n",
              "4  15476                             0.041  ...                 A                Rural\n",
              "5  64797                             0.112  ...                 B                Rural\n",
              "6  67412                             0.325  ...                 C                Urban\n",
              "7  44241                             0.362  ...                 A                Urban\n",
              "8   5069                             0.115  ...                 D                Rural\n",
              "9  16615                             0.021  ...                 B                Urban\n",
              "\n",
              "[10 rows x 11 columns]"
            ]
          },
          "metadata": {
            "tags": []
          },
          "execution_count": 16
        }
      ]
    },
    {
      "cell_type": "code",
      "metadata": {
        "colab": {
          "base_uri": "https://localhost:8080/"
        },
        "id": "ZV_lrPEWwQOl",
        "outputId": "32ed3835-e615-4282-f185-10abde1df523"
      },
      "source": [
        "print(tr_data.shape)\n",
        "print('\\n')\n",
        "print(ts_data.shape)"
      ],
      "execution_count": null,
      "outputs": [
        {
          "output_type": "stream",
          "text": [
            "(79853, 12)\n",
            "\n",
            "\n",
            "(34224, 11)\n"
          ],
          "name": "stdout"
        }
      ]
    },
    {
      "cell_type": "code",
      "metadata": {
        "colab": {
          "base_uri": "https://localhost:8080/",
          "height": 324
        },
        "id": "U1lYX6FOwfT3",
        "outputId": "1b8e4ec7-e90d-45d6-96fe-2733e0a9e207"
      },
      "source": [
        "tr_data.describe()"
      ],
      "execution_count": null,
      "outputs": [
        {
          "output_type": "execute_result",
          "data": {
            "text/html": [
              "<div>\n",
              "<style scoped>\n",
              "    .dataframe tbody tr th:only-of-type {\n",
              "        vertical-align: middle;\n",
              "    }\n",
              "\n",
              "    .dataframe tbody tr th {\n",
              "        vertical-align: top;\n",
              "    }\n",
              "\n",
              "    .dataframe thead th {\n",
              "        text-align: right;\n",
              "    }\n",
              "</style>\n",
              "<table border=\"1\" class=\"dataframe\">\n",
              "  <thead>\n",
              "    <tr style=\"text-align: right;\">\n",
              "      <th></th>\n",
              "      <th>id</th>\n",
              "      <th>perc_premium_paid_by_cash_credit</th>\n",
              "      <th>age</th>\n",
              "      <th>Income</th>\n",
              "      <th>Count_3-6_months_late</th>\n",
              "      <th>Count_6-12_months_late</th>\n",
              "      <th>Count_more_than_12_months_late</th>\n",
              "      <th>application_underwriting_score</th>\n",
              "      <th>no_of_premiums_paid</th>\n",
              "      <th>target</th>\n",
              "    </tr>\n",
              "  </thead>\n",
              "  <tbody>\n",
              "    <tr>\n",
              "      <th>count</th>\n",
              "      <td>79853.000000</td>\n",
              "      <td>79853.000000</td>\n",
              "      <td>79853.000000</td>\n",
              "      <td>7.985300e+04</td>\n",
              "      <td>79853.000000</td>\n",
              "      <td>79853.000000</td>\n",
              "      <td>79853.000000</td>\n",
              "      <td>79853.000000</td>\n",
              "      <td>79853.000000</td>\n",
              "      <td>79853.000000</td>\n",
              "    </tr>\n",
              "    <tr>\n",
              "      <th>mean</th>\n",
              "      <td>57167.166368</td>\n",
              "      <td>0.314288</td>\n",
              "      <td>51.607404</td>\n",
              "      <td>2.088472e+05</td>\n",
              "      <td>0.248369</td>\n",
              "      <td>0.078093</td>\n",
              "      <td>0.059935</td>\n",
              "      <td>99.067291</td>\n",
              "      <td>10.863887</td>\n",
              "      <td>0.937410</td>\n",
              "    </tr>\n",
              "    <tr>\n",
              "      <th>std</th>\n",
              "      <td>32928.970160</td>\n",
              "      <td>0.334915</td>\n",
              "      <td>14.270484</td>\n",
              "      <td>4.965826e+05</td>\n",
              "      <td>0.691102</td>\n",
              "      <td>0.436251</td>\n",
              "      <td>0.311840</td>\n",
              "      <td>0.725892</td>\n",
              "      <td>5.170687</td>\n",
              "      <td>0.242226</td>\n",
              "    </tr>\n",
              "    <tr>\n",
              "      <th>min</th>\n",
              "      <td>2.000000</td>\n",
              "      <td>0.000000</td>\n",
              "      <td>21.000000</td>\n",
              "      <td>2.403000e+04</td>\n",
              "      <td>0.000000</td>\n",
              "      <td>0.000000</td>\n",
              "      <td>0.000000</td>\n",
              "      <td>91.900000</td>\n",
              "      <td>2.000000</td>\n",
              "      <td>0.000000</td>\n",
              "    </tr>\n",
              "    <tr>\n",
              "      <th>25%</th>\n",
              "      <td>28640.000000</td>\n",
              "      <td>0.034000</td>\n",
              "      <td>41.000000</td>\n",
              "      <td>1.080100e+05</td>\n",
              "      <td>0.000000</td>\n",
              "      <td>0.000000</td>\n",
              "      <td>0.000000</td>\n",
              "      <td>98.830000</td>\n",
              "      <td>7.000000</td>\n",
              "      <td>1.000000</td>\n",
              "    </tr>\n",
              "    <tr>\n",
              "      <th>50%</th>\n",
              "      <td>57262.000000</td>\n",
              "      <td>0.167000</td>\n",
              "      <td>51.000000</td>\n",
              "      <td>1.665600e+05</td>\n",
              "      <td>0.000000</td>\n",
              "      <td>0.000000</td>\n",
              "      <td>0.000000</td>\n",
              "      <td>99.180000</td>\n",
              "      <td>10.000000</td>\n",
              "      <td>1.000000</td>\n",
              "    </tr>\n",
              "    <tr>\n",
              "      <th>75%</th>\n",
              "      <td>85632.000000</td>\n",
              "      <td>0.538000</td>\n",
              "      <td>62.000000</td>\n",
              "      <td>2.520900e+05</td>\n",
              "      <td>0.000000</td>\n",
              "      <td>0.000000</td>\n",
              "      <td>0.000000</td>\n",
              "      <td>99.520000</td>\n",
              "      <td>14.000000</td>\n",
              "      <td>1.000000</td>\n",
              "    </tr>\n",
              "    <tr>\n",
              "      <th>max</th>\n",
              "      <td>114076.000000</td>\n",
              "      <td>1.000000</td>\n",
              "      <td>103.000000</td>\n",
              "      <td>9.026260e+07</td>\n",
              "      <td>13.000000</td>\n",
              "      <td>17.000000</td>\n",
              "      <td>11.000000</td>\n",
              "      <td>99.890000</td>\n",
              "      <td>60.000000</td>\n",
              "      <td>1.000000</td>\n",
              "    </tr>\n",
              "  </tbody>\n",
              "</table>\n",
              "</div>"
            ],
            "text/plain": [
              "                  id  ...        target\n",
              "count   79853.000000  ...  79853.000000\n",
              "mean    57167.166368  ...      0.937410\n",
              "std     32928.970160  ...      0.242226\n",
              "min         2.000000  ...      0.000000\n",
              "25%     28640.000000  ...      1.000000\n",
              "50%     57262.000000  ...      1.000000\n",
              "75%     85632.000000  ...      1.000000\n",
              "max    114076.000000  ...      1.000000\n",
              "\n",
              "[8 rows x 10 columns]"
            ]
          },
          "metadata": {
            "tags": []
          },
          "execution_count": 34
        }
      ]
    },
    {
      "cell_type": "code",
      "metadata": {
        "colab": {
          "base_uri": "https://localhost:8080/",
          "height": 324
        },
        "id": "x5KahoZhfppg",
        "outputId": "a86c788c-cd73-448d-f5c9-0523d949dfd1"
      },
      "source": [
        "ts_data.describe()"
      ],
      "execution_count": null,
      "outputs": [
        {
          "output_type": "execute_result",
          "data": {
            "text/html": [
              "<div>\n",
              "<style scoped>\n",
              "    .dataframe tbody tr th:only-of-type {\n",
              "        vertical-align: middle;\n",
              "    }\n",
              "\n",
              "    .dataframe tbody tr th {\n",
              "        vertical-align: top;\n",
              "    }\n",
              "\n",
              "    .dataframe thead th {\n",
              "        text-align: right;\n",
              "    }\n",
              "</style>\n",
              "<table border=\"1\" class=\"dataframe\">\n",
              "  <thead>\n",
              "    <tr style=\"text-align: right;\">\n",
              "      <th></th>\n",
              "      <th>id</th>\n",
              "      <th>perc_premium_paid_by_cash_credit</th>\n",
              "      <th>age_in_days</th>\n",
              "      <th>Income</th>\n",
              "      <th>Count_3-6_months_late</th>\n",
              "      <th>Count_6-12_months_late</th>\n",
              "      <th>Count_more_than_12_months_late</th>\n",
              "      <th>application_underwriting_score</th>\n",
              "      <th>no_of_premiums_paid</th>\n",
              "    </tr>\n",
              "  </thead>\n",
              "  <tbody>\n",
              "    <tr>\n",
              "      <th>count</th>\n",
              "      <td>34224.000000</td>\n",
              "      <td>34224.000000</td>\n",
              "      <td>34224.000000</td>\n",
              "      <td>3.422400e+04</td>\n",
              "      <td>34193.000000</td>\n",
              "      <td>34193.000000</td>\n",
              "      <td>34193.000000</td>\n",
              "      <td>32901.000000</td>\n",
              "      <td>34224.000000</td>\n",
              "    </tr>\n",
              "    <tr>\n",
              "      <th>mean</th>\n",
              "      <td>56739.956376</td>\n",
              "      <td>0.314457</td>\n",
              "      <td>18824.215346</td>\n",
              "      <td>2.028201e+05</td>\n",
              "      <td>0.238733</td>\n",
              "      <td>0.080718</td>\n",
              "      <td>0.058111</td>\n",
              "      <td>99.061898</td>\n",
              "      <td>10.890428</td>\n",
              "    </tr>\n",
              "    <tr>\n",
              "      <th>std</th>\n",
              "      <td>32935.402647</td>\n",
              "      <td>0.334059</td>\n",
              "      <td>5246.525604</td>\n",
              "      <td>2.702536e+05</td>\n",
              "      <td>0.686162</td>\n",
              "      <td>0.454634</td>\n",
              "      <td>0.307046</td>\n",
              "      <td>0.742942</td>\n",
              "      <td>5.216867</td>\n",
              "    </tr>\n",
              "    <tr>\n",
              "      <th>min</th>\n",
              "      <td>1.000000</td>\n",
              "      <td>0.000000</td>\n",
              "      <td>7671.000000</td>\n",
              "      <td>2.403000e+04</td>\n",
              "      <td>0.000000</td>\n",
              "      <td>0.000000</td>\n",
              "      <td>0.000000</td>\n",
              "      <td>91.900000</td>\n",
              "      <td>2.000000</td>\n",
              "    </tr>\n",
              "    <tr>\n",
              "      <th>25%</th>\n",
              "      <td>28254.750000</td>\n",
              "      <td>0.034000</td>\n",
              "      <td>14972.000000</td>\n",
              "      <td>1.063975e+05</td>\n",
              "      <td>0.000000</td>\n",
              "      <td>0.000000</td>\n",
              "      <td>0.000000</td>\n",
              "      <td>98.800000</td>\n",
              "      <td>7.000000</td>\n",
              "    </tr>\n",
              "    <tr>\n",
              "      <th>50%</th>\n",
              "      <td>56488.000000</td>\n",
              "      <td>0.169000</td>\n",
              "      <td>18623.000000</td>\n",
              "      <td>1.650700e+05</td>\n",
              "      <td>0.000000</td>\n",
              "      <td>0.000000</td>\n",
              "      <td>0.000000</td>\n",
              "      <td>99.210000</td>\n",
              "      <td>10.000000</td>\n",
              "    </tr>\n",
              "    <tr>\n",
              "      <th>75%</th>\n",
              "      <td>85386.250000</td>\n",
              "      <td>0.540000</td>\n",
              "      <td>22636.000000</td>\n",
              "      <td>2.500200e+05</td>\n",
              "      <td>0.000000</td>\n",
              "      <td>0.000000</td>\n",
              "      <td>0.000000</td>\n",
              "      <td>99.530000</td>\n",
              "      <td>14.000000</td>\n",
              "    </tr>\n",
              "    <tr>\n",
              "      <th>max</th>\n",
              "      <td>114077.000000</td>\n",
              "      <td>1.000000</td>\n",
              "      <td>35785.000000</td>\n",
              "      <td>2.191455e+07</td>\n",
              "      <td>12.000000</td>\n",
              "      <td>10.000000</td>\n",
              "      <td>7.000000</td>\n",
              "      <td>99.890000</td>\n",
              "      <td>59.000000</td>\n",
              "    </tr>\n",
              "  </tbody>\n",
              "</table>\n",
              "</div>"
            ],
            "text/plain": [
              "                  id  ...  no_of_premiums_paid\n",
              "count   34224.000000  ...         34224.000000\n",
              "mean    56739.956376  ...            10.890428\n",
              "std     32935.402647  ...             5.216867\n",
              "min         1.000000  ...             2.000000\n",
              "25%     28254.750000  ...             7.000000\n",
              "50%     56488.000000  ...            10.000000\n",
              "75%     85386.250000  ...            14.000000\n",
              "max    114077.000000  ...            59.000000\n",
              "\n",
              "[8 rows x 9 columns]"
            ]
          },
          "metadata": {
            "tags": []
          },
          "execution_count": 18
        }
      ]
    },
    {
      "cell_type": "code",
      "metadata": {
        "colab": {
          "base_uri": "https://localhost:8080/"
        },
        "id": "kDCpL1y5whRV",
        "outputId": "8a9ab405-8a32-4f79-dbc4-240d03893d68"
      },
      "source": [
        "tr_data.isnull().sum()"
      ],
      "execution_count": null,
      "outputs": [
        {
          "output_type": "execute_result",
          "data": {
            "text/plain": [
              "id                                     0\n",
              "perc_premium_paid_by_cash_credit       0\n",
              "age_in_days                            0\n",
              "Income                                 0\n",
              "Count_3-6_months_late                 97\n",
              "Count_6-12_months_late                97\n",
              "Count_more_than_12_months_late        97\n",
              "application_underwriting_score      2974\n",
              "no_of_premiums_paid                    0\n",
              "sourcing_channel                       0\n",
              "residence_area_type                    0\n",
              "target                                 0\n",
              "dtype: int64"
            ]
          },
          "metadata": {
            "tags": []
          },
          "execution_count": 6
        }
      ]
    },
    {
      "cell_type": "code",
      "metadata": {
        "colab": {
          "base_uri": "https://localhost:8080/"
        },
        "id": "m5zzBx0qft5a",
        "outputId": "9d235d4c-5260-4128-ec22-ffc2f56bec3d"
      },
      "source": [
        "ts_data.isnull().sum()"
      ],
      "execution_count": null,
      "outputs": [
        {
          "output_type": "execute_result",
          "data": {
            "text/plain": [
              "id                                     0\n",
              "perc_premium_paid_by_cash_credit       0\n",
              "age_in_days                            0\n",
              "Income                                 0\n",
              "Count_3-6_months_late                 31\n",
              "Count_6-12_months_late                31\n",
              "Count_more_than_12_months_late        31\n",
              "application_underwriting_score      1323\n",
              "no_of_premiums_paid                    0\n",
              "sourcing_channel                       0\n",
              "residence_area_type                    0\n",
              "dtype: int64"
            ]
          },
          "metadata": {
            "tags": []
          },
          "execution_count": 19
        }
      ]
    },
    {
      "cell_type": "code",
      "metadata": {
        "id": "THgHd3W-DFTH"
      },
      "source": [
        "#Converting Age in Days to Age in Years\n",
        "tr_data['age_in_days']=tr_data['age_in_days']//365\n",
        "ts_data['age_in_days']=ts_data['age_in_days']//365"
      ],
      "execution_count": null,
      "outputs": []
    },
    {
      "cell_type": "code",
      "metadata": {
        "id": "873waVBi-Y4E"
      },
      "source": [
        "tr_data = tr_data.rename({'age_in_days':'age'},axis='columns')\n",
        "ts_data = ts_data.rename({'age_in_days':'age'},axis='columns')"
      ],
      "execution_count": null,
      "outputs": []
    },
    {
      "cell_type": "code",
      "metadata": {
        "colab": {
          "base_uri": "https://localhost:8080/",
          "height": 234
        },
        "id": "xEg4buT3gxA5",
        "outputId": "9b8bcd8f-2005-4e07-cce0-58f488d91135"
      },
      "source": [
        "tr_data.head()"
      ],
      "execution_count": null,
      "outputs": [
        {
          "output_type": "execute_result",
          "data": {
            "text/html": [
              "<div>\n",
              "<style scoped>\n",
              "    .dataframe tbody tr th:only-of-type {\n",
              "        vertical-align: middle;\n",
              "    }\n",
              "\n",
              "    .dataframe tbody tr th {\n",
              "        vertical-align: top;\n",
              "    }\n",
              "\n",
              "    .dataframe thead th {\n",
              "        text-align: right;\n",
              "    }\n",
              "</style>\n",
              "<table border=\"1\" class=\"dataframe\">\n",
              "  <thead>\n",
              "    <tr style=\"text-align: right;\">\n",
              "      <th></th>\n",
              "      <th>id</th>\n",
              "      <th>perc_premium_paid_by_cash_credit</th>\n",
              "      <th>age</th>\n",
              "      <th>Income</th>\n",
              "      <th>Count_3-6_months_late</th>\n",
              "      <th>Count_6-12_months_late</th>\n",
              "      <th>Count_more_than_12_months_late</th>\n",
              "      <th>application_underwriting_score</th>\n",
              "      <th>no_of_premiums_paid</th>\n",
              "      <th>sourcing_channel</th>\n",
              "      <th>residence_area_type</th>\n",
              "      <th>target</th>\n",
              "    </tr>\n",
              "  </thead>\n",
              "  <tbody>\n",
              "    <tr>\n",
              "      <th>0</th>\n",
              "      <td>110936</td>\n",
              "      <td>0.429</td>\n",
              "      <td>33</td>\n",
              "      <td>355060</td>\n",
              "      <td>0.0</td>\n",
              "      <td>0.0</td>\n",
              "      <td>0.0</td>\n",
              "      <td>99.02</td>\n",
              "      <td>13</td>\n",
              "      <td>C</td>\n",
              "      <td>Urban</td>\n",
              "      <td>1</td>\n",
              "    </tr>\n",
              "    <tr>\n",
              "      <th>1</th>\n",
              "      <td>41492</td>\n",
              "      <td>0.010</td>\n",
              "      <td>59</td>\n",
              "      <td>315150</td>\n",
              "      <td>0.0</td>\n",
              "      <td>0.0</td>\n",
              "      <td>0.0</td>\n",
              "      <td>99.89</td>\n",
              "      <td>21</td>\n",
              "      <td>A</td>\n",
              "      <td>Urban</td>\n",
              "      <td>1</td>\n",
              "    </tr>\n",
              "    <tr>\n",
              "      <th>2</th>\n",
              "      <td>31300</td>\n",
              "      <td>0.917</td>\n",
              "      <td>48</td>\n",
              "      <td>84140</td>\n",
              "      <td>2.0</td>\n",
              "      <td>3.0</td>\n",
              "      <td>1.0</td>\n",
              "      <td>98.69</td>\n",
              "      <td>7</td>\n",
              "      <td>C</td>\n",
              "      <td>Rural</td>\n",
              "      <td>0</td>\n",
              "    </tr>\n",
              "    <tr>\n",
              "      <th>3</th>\n",
              "      <td>19415</td>\n",
              "      <td>0.049</td>\n",
              "      <td>42</td>\n",
              "      <td>250510</td>\n",
              "      <td>0.0</td>\n",
              "      <td>0.0</td>\n",
              "      <td>0.0</td>\n",
              "      <td>99.57</td>\n",
              "      <td>9</td>\n",
              "      <td>A</td>\n",
              "      <td>Urban</td>\n",
              "      <td>1</td>\n",
              "    </tr>\n",
              "    <tr>\n",
              "      <th>4</th>\n",
              "      <td>99379</td>\n",
              "      <td>0.052</td>\n",
              "      <td>86</td>\n",
              "      <td>198680</td>\n",
              "      <td>0.0</td>\n",
              "      <td>0.0</td>\n",
              "      <td>0.0</td>\n",
              "      <td>99.87</td>\n",
              "      <td>12</td>\n",
              "      <td>B</td>\n",
              "      <td>Urban</td>\n",
              "      <td>1</td>\n",
              "    </tr>\n",
              "  </tbody>\n",
              "</table>\n",
              "</div>"
            ],
            "text/plain": [
              "       id  perc_premium_paid_by_cash_credit  ...  residence_area_type  target\n",
              "0  110936                             0.429  ...                Urban       1\n",
              "1   41492                             0.010  ...                Urban       1\n",
              "2   31300                             0.917  ...                Rural       0\n",
              "3   19415                             0.049  ...                Urban       1\n",
              "4   99379                             0.052  ...                Urban       1\n",
              "\n",
              "[5 rows x 12 columns]"
            ]
          },
          "metadata": {
            "tags": []
          },
          "execution_count": 22
        }
      ]
    },
    {
      "cell_type": "code",
      "metadata": {
        "colab": {
          "base_uri": "https://localhost:8080/",
          "height": 234
        },
        "id": "VbQksJmGg4e4",
        "outputId": "66644ff6-6bf4-4862-e316-fbc41428a5ae"
      },
      "source": [
        "ts_data.head()"
      ],
      "execution_count": null,
      "outputs": [
        {
          "output_type": "execute_result",
          "data": {
            "text/html": [
              "<div>\n",
              "<style scoped>\n",
              "    .dataframe tbody tr th:only-of-type {\n",
              "        vertical-align: middle;\n",
              "    }\n",
              "\n",
              "    .dataframe tbody tr th {\n",
              "        vertical-align: top;\n",
              "    }\n",
              "\n",
              "    .dataframe thead th {\n",
              "        text-align: right;\n",
              "    }\n",
              "</style>\n",
              "<table border=\"1\" class=\"dataframe\">\n",
              "  <thead>\n",
              "    <tr style=\"text-align: right;\">\n",
              "      <th></th>\n",
              "      <th>id</th>\n",
              "      <th>perc_premium_paid_by_cash_credit</th>\n",
              "      <th>age</th>\n",
              "      <th>Income</th>\n",
              "      <th>Count_3-6_months_late</th>\n",
              "      <th>Count_6-12_months_late</th>\n",
              "      <th>Count_more_than_12_months_late</th>\n",
              "      <th>application_underwriting_score</th>\n",
              "      <th>no_of_premiums_paid</th>\n",
              "      <th>sourcing_channel</th>\n",
              "      <th>residence_area_type</th>\n",
              "    </tr>\n",
              "  </thead>\n",
              "  <tbody>\n",
              "    <tr>\n",
              "      <th>0</th>\n",
              "      <td>649</td>\n",
              "      <td>0.001</td>\n",
              "      <td>75</td>\n",
              "      <td>51150</td>\n",
              "      <td>0.0</td>\n",
              "      <td>0.0</td>\n",
              "      <td>0.0</td>\n",
              "      <td>99.89</td>\n",
              "      <td>7</td>\n",
              "      <td>A</td>\n",
              "      <td>Rural</td>\n",
              "    </tr>\n",
              "    <tr>\n",
              "      <th>1</th>\n",
              "      <td>81136</td>\n",
              "      <td>0.124</td>\n",
              "      <td>65</td>\n",
              "      <td>285140</td>\n",
              "      <td>0.0</td>\n",
              "      <td>0.0</td>\n",
              "      <td>0.0</td>\n",
              "      <td>98.93</td>\n",
              "      <td>19</td>\n",
              "      <td>A</td>\n",
              "      <td>Urban</td>\n",
              "    </tr>\n",
              "    <tr>\n",
              "      <th>2</th>\n",
              "      <td>70762</td>\n",
              "      <td>1.000</td>\n",
              "      <td>47</td>\n",
              "      <td>186030</td>\n",
              "      <td>0.0</td>\n",
              "      <td>0.0</td>\n",
              "      <td>0.0</td>\n",
              "      <td>NaN</td>\n",
              "      <td>2</td>\n",
              "      <td>B</td>\n",
              "      <td>Urban</td>\n",
              "    </tr>\n",
              "    <tr>\n",
              "      <th>3</th>\n",
              "      <td>53935</td>\n",
              "      <td>0.198</td>\n",
              "      <td>44</td>\n",
              "      <td>123540</td>\n",
              "      <td>0.0</td>\n",
              "      <td>0.0</td>\n",
              "      <td>0.0</td>\n",
              "      <td>99.00</td>\n",
              "      <td>11</td>\n",
              "      <td>B</td>\n",
              "      <td>Rural</td>\n",
              "    </tr>\n",
              "    <tr>\n",
              "      <th>4</th>\n",
              "      <td>15476</td>\n",
              "      <td>0.041</td>\n",
              "      <td>29</td>\n",
              "      <td>200020</td>\n",
              "      <td>1.0</td>\n",
              "      <td>0.0</td>\n",
              "      <td>0.0</td>\n",
              "      <td>99.17</td>\n",
              "      <td>14</td>\n",
              "      <td>A</td>\n",
              "      <td>Rural</td>\n",
              "    </tr>\n",
              "  </tbody>\n",
              "</table>\n",
              "</div>"
            ],
            "text/plain": [
              "      id  perc_premium_paid_by_cash_credit  ...  sourcing_channel  residence_area_type\n",
              "0    649                             0.001  ...                 A                Rural\n",
              "1  81136                             0.124  ...                 A                Urban\n",
              "2  70762                             1.000  ...                 B                Urban\n",
              "3  53935                             0.198  ...                 B                Rural\n",
              "4  15476                             0.041  ...                 A                Rural\n",
              "\n",
              "[5 rows x 11 columns]"
            ]
          },
          "metadata": {
            "tags": []
          },
          "execution_count": 6
        }
      ]
    },
    {
      "cell_type": "code",
      "metadata": {
        "colab": {
          "base_uri": "https://localhost:8080/"
        },
        "id": "fYE8ZPQuEGrH",
        "outputId": "6559ef84-c72f-463a-9de0-1270b1726f0a"
      },
      "source": [
        "tr_data.nunique()"
      ],
      "execution_count": null,
      "outputs": [
        {
          "output_type": "execute_result",
          "data": {
            "text/plain": [
              "id                                  79853\n",
              "perc_premium_paid_by_cash_credit     1001\n",
              "age                                    82\n",
              "Income                              24165\n",
              "Count_3-6_months_late                  14\n",
              "Count_6-12_months_late                 17\n",
              "Count_more_than_12_months_late         10\n",
              "application_underwriting_score        672\n",
              "no_of_premiums_paid                    57\n",
              "sourcing_channel                        5\n",
              "residence_area_type                     2\n",
              "target                                  2\n",
              "dtype: int64"
            ]
          },
          "metadata": {
            "tags": []
          },
          "execution_count": 9
        }
      ]
    },
    {
      "cell_type": "markdown",
      "metadata": {
        "id": "m59cOpQ3Iev0"
      },
      "source": [
        "#Handling Missing values"
      ]
    },
    {
      "cell_type": "code",
      "metadata": {
        "id": "I7I3kqpEGDep"
      },
      "source": [
        "tr_data['Count_3-6_months_late'].fillna(tr_data['Count_3-6_months_late'].mode()[0],inplace=True)\n",
        "tr_data['Count_6-12_months_late'].fillna(tr_data['Count_6-12_months_late'].mode()[0],inplace=True)\n",
        "tr_data['Count_more_than_12_months_late'].fillna(tr_data['Count_more_than_12_months_late'].mode()[0],inplace=True)"
      ],
      "execution_count": null,
      "outputs": []
    },
    {
      "cell_type": "code",
      "metadata": {
        "colab": {
          "base_uri": "https://localhost:8080/"
        },
        "id": "bTo9f-dZ1Z7V",
        "outputId": "8f24849b-0a0c-4e26-b95c-0dd41cc26e46"
      },
      "source": [
        "print(tr_data['Count_3-6_months_late'].unique())\n",
        "print('\\n')\n",
        "print(tr_data['Count_6-12_months_late'].unique())\n",
        "print('\\n')\n",
        "print(tr_data['Count_more_than_12_months_late'].unique())"
      ],
      "execution_count": null,
      "outputs": [
        {
          "output_type": "stream",
          "text": [
            "[ 0.  2.  1.  3.  4.  7.  5.  6.  8. 13. 12.  9. 11. 10.]\n",
            "\n",
            "\n",
            "[ 0.  3.  6.  2. 10.  1.  4.  7.  5. 17.  9. 15.  8. 11. 14. 13. 12.]\n",
            "\n",
            "\n",
            "[ 0.  1.  4.  2.  3.  7.  5. 11.  6.  8.]\n"
          ],
          "name": "stdout"
        }
      ]
    },
    {
      "cell_type": "code",
      "metadata": {
        "id": "8NMDZJveDNZ9"
      },
      "source": [
        "#missing_col = ['Count_3-6_months_late','Count_6-12_months_late','Count_more_than_12_months_late']\n",
        "#for i in missing_col:\n",
        "  #tr_data.loc[tr_data.loc[:,i].isnull(),i]=tr_data.loc[:,i].mode()"
      ],
      "execution_count": null,
      "outputs": []
    },
    {
      "cell_type": "code",
      "metadata": {
        "id": "mPTvg1d-IQhl"
      },
      "source": [
        "mean_value=tr_data['application_underwriting_score'].mean()\n",
        "tr_data['application_underwriting_score'].fillna(value=mean_value, inplace=True)"
      ],
      "execution_count": null,
      "outputs": []
    },
    {
      "cell_type": "code",
      "metadata": {
        "colab": {
          "base_uri": "https://localhost:8080/"
        },
        "id": "wa9qPQ14D0CS",
        "outputId": "b55196d8-49b5-47d6-ed9f-c7b6d166178c"
      },
      "source": [
        "tr_data.isnull().sum()"
      ],
      "execution_count": null,
      "outputs": [
        {
          "output_type": "execute_result",
          "data": {
            "text/plain": [
              "id                                  0\n",
              "perc_premium_paid_by_cash_credit    0\n",
              "age                                 0\n",
              "Income                              0\n",
              "Count_3-6_months_late               0\n",
              "Count_6-12_months_late              0\n",
              "Count_more_than_12_months_late      0\n",
              "application_underwriting_score      0\n",
              "no_of_premiums_paid                 0\n",
              "sourcing_channel                    0\n",
              "residence_area_type                 0\n",
              "target                              0\n",
              "dtype: int64"
            ]
          },
          "metadata": {
            "tags": []
          },
          "execution_count": 7
        }
      ]
    },
    {
      "cell_type": "code",
      "metadata": {
        "id": "BDzG3j4hnSj8"
      },
      "source": [
        "ts_data['Count_3-6_months_late'].fillna(ts_data['Count_3-6_months_late'].mode()[0],inplace=True)\n",
        "ts_data['Count_6-12_months_late'].fillna(ts_data['Count_6-12_months_late'].mode()[0],inplace=True)\n",
        "ts_data['Count_more_than_12_months_late'].fillna(ts_data['Count_more_than_12_months_late'].mode()[0],inplace=True)"
      ],
      "execution_count": null,
      "outputs": []
    },
    {
      "cell_type": "code",
      "metadata": {
        "id": "UgcIcmxinbtt"
      },
      "source": [
        "mean_value=ts_data['application_underwriting_score'].mean()\n",
        "ts_data['application_underwriting_score'].fillna(value=mean_value, inplace=True)"
      ],
      "execution_count": null,
      "outputs": []
    },
    {
      "cell_type": "code",
      "metadata": {
        "colab": {
          "base_uri": "https://localhost:8080/"
        },
        "id": "O-mUXLcInMGe",
        "outputId": "68758a22-ad36-424e-cf62-be3f3b8f6586"
      },
      "source": [
        "ts_data.isnull().sum()"
      ],
      "execution_count": null,
      "outputs": [
        {
          "output_type": "execute_result",
          "data": {
            "text/plain": [
              "id                                  0\n",
              "perc_premium_paid_by_cash_credit    0\n",
              "age                                 0\n",
              "Income                              0\n",
              "Count_3-6_months_late               0\n",
              "Count_6-12_months_late              0\n",
              "Count_more_than_12_months_late      0\n",
              "application_underwriting_score      0\n",
              "no_of_premiums_paid                 0\n",
              "sourcing_channel                    0\n",
              "residence_area_type                 0\n",
              "dtype: int64"
            ]
          },
          "metadata": {
            "tags": []
          },
          "execution_count": 12
        }
      ]
    },
    {
      "cell_type": "markdown",
      "metadata": {
        "id": "lyC_gT3bcElK"
      },
      "source": [
        "#Visualization"
      ]
    },
    {
      "cell_type": "code",
      "metadata": {
        "colab": {
          "base_uri": "https://localhost:8080/"
        },
        "id": "DSvKEkfYFV-4",
        "outputId": "e7008969-4687-4131-cbac-113969b8eb66"
      },
      "source": [
        "tr_data['target'].value_counts()"
      ],
      "execution_count": null,
      "outputs": [
        {
          "output_type": "execute_result",
          "data": {
            "text/plain": [
              "1    74855\n",
              "0     4998\n",
              "Name: target, dtype: int64"
            ]
          },
          "metadata": {
            "tags": []
          },
          "execution_count": 15
        }
      ]
    },
    {
      "cell_type": "code",
      "metadata": {
        "colab": {
          "base_uri": "https://localhost:8080/",
          "height": 315
        },
        "id": "q5pKG31i-AzZ",
        "outputId": "3d4c40c2-0e0f-46ab-b2a2-c7edceeece9e"
      },
      "source": [
        "plt.pie(tr_data['target'].value_counts())"
      ],
      "execution_count": null,
      "outputs": [
        {
          "output_type": "execute_result",
          "data": {
            "text/plain": [
              "([<matplotlib.patches.Wedge at 0x7f12d19a3110>,\n",
              "  <matplotlib.patches.Wedge at 0x7f12d19a3610>],\n",
              " [Text(-1.078803086747592, 0.21490439740467726, ''),\n",
              "  Text(1.0788030917777922, -0.21490437215346894, '')])"
            ]
          },
          "metadata": {
            "tags": []
          },
          "execution_count": 12
        },
        {
          "output_type": "display_data",
          "data": {
            "image/png": "[encoded data removed]",
            "text/plain": [
              "<Figure size 432x288 with 1 Axes>"
            ]
          },
          "metadata": {
            "tags": []
          }
        }
      ]
    },
    {
      "cell_type": "code",
      "metadata": {
        "colab": {
          "base_uri": "https://localhost:8080/",
          "height": 350
        },
        "id": "b5GDyoiIBwWL",
        "outputId": "9c702e0b-2fc2-46c9-f0f5-f557c79fbc91"
      },
      "source": [
        "sns.countplot(tr_data['sourcing_channel'])"
      ],
      "execution_count": null,
      "outputs": [
        {
          "output_type": "stream",
          "text": [
            "/usr/local/lib/python3.7/dist-packages/seaborn/_decorators.py:43: FutureWarning: Pass the following variable as a keyword arg: x. From version 0.12, the only valid positional argument will be `data`, and passing other arguments without an explicit keyword will result in an error or misinterpretation.\n",
            "  FutureWarning\n"
          ],
          "name": "stderr"
        },
        {
          "output_type": "execute_result",
          "data": {
            "text/plain": [
              "<matplotlib.axes._subplots.AxesSubplot at 0x7f12c1a56150>"
            ]
          },
          "metadata": {
            "tags": []
          },
          "execution_count": 32
        },
        {
          "output_type": "display_data",
          "data": {
            "image/png": "[encoded data removed]",
            "text/plain": [
              "<Figure size 432x288 with 1 Axes>"
            ]
          },
          "metadata": {
            "tags": [],
            "needs_background": "light"
          }
        }
      ]
    },
    {
      "cell_type": "code",
      "metadata": {
        "colab": {
          "base_uri": "https://localhost:8080/",
          "height": 350
        },
        "id": "TW1fwN_bD7vb",
        "outputId": "f8a06f4f-ef56-4dca-da2a-43a21162a0ae"
      },
      "source": [
        "sns.distplot(tr_data['application_underwriting_score'])"
      ],
      "execution_count": null,
      "outputs": [
        {
          "output_type": "stream",
          "text": [
            "/usr/local/lib/python3.7/dist-packages/seaborn/distributions.py:2557: FutureWarning: `distplot` is a deprecated function and will be removed in a future version. Please adapt your code to use either `displot` (a figure-level function with similar flexibility) or `histplot` (an axes-level function for histograms).\n",
            "  warnings.warn(msg, FutureWarning)\n"
          ],
          "name": "stderr"
        },
        {
          "output_type": "execute_result",
          "data": {
            "text/plain": [
              "<matplotlib.axes._subplots.AxesSubplot at 0x7f12d145b410>"
            ]
          },
          "metadata": {
            "tags": []
          },
          "execution_count": 14
        },
        {
          "output_type": "display_data",
          "data": {
            "image/png": "[encoded data removed]",
            "text/plain": [
              "<Figure size 432x288 with 1 Axes>"
            ]
          },
          "metadata": {
            "tags": [],
            "needs_background": "light"
          }
        }
      ]
    },
    {
      "cell_type": "code",
      "metadata": {
        "colab": {
          "base_uri": "https://localhost:8080/",
          "height": 350
        },
        "id": "GM6_NmRPpHx9",
        "outputId": "d98936e1-1a8f-4208-e4f9-a83f28fe2b2d"
      },
      "source": [
        "sns.distplot(tr_data['no_of_premiums_paid'])"
      ],
      "execution_count": null,
      "outputs": [
        {
          "output_type": "stream",
          "text": [
            "/usr/local/lib/python3.7/dist-packages/seaborn/distributions.py:2557: FutureWarning: `distplot` is a deprecated function and will be removed in a future version. Please adapt your code to use either `displot` (a figure-level function with similar flexibility) or `histplot` (an axes-level function for histograms).\n",
            "  warnings.warn(msg, FutureWarning)\n"
          ],
          "name": "stderr"
        },
        {
          "output_type": "execute_result",
          "data": {
            "text/plain": [
              "<matplotlib.axes._subplots.AxesSubplot at 0x7f12c18ded10>"
            ]
          },
          "metadata": {
            "tags": []
          },
          "execution_count": 35
        },
        {
          "output_type": "display_data",
          "data": {
            "image/png": "[encoded data removed]",
            "text/plain": [
              "<Figure size 432x288 with 1 Axes>"
            ]
          },
          "metadata": {
            "tags": [],
            "needs_background": "light"
          }
        }
      ]
    },
    {
      "cell_type": "code",
      "metadata": {
        "colab": {
          "base_uri": "https://localhost:8080/",
          "height": 386
        },
        "id": "A3ArDBQ_9tOr",
        "outputId": "ea2e371c-3c0f-43ee-f4c7-04fdec825ae7"
      },
      "source": [
        "sns.displot(tr_data, x='perc_premium_paid_by_cash_credit', kde=True)"
      ],
      "execution_count": null,
      "outputs": [
        {
          "output_type": "execute_result",
          "data": {
            "text/plain": [
              "<seaborn.axisgrid.FacetGrid at 0x7f027fa71e90>"
            ]
          },
          "metadata": {
            "tags": []
          },
          "execution_count": 19
        },
        {
          "output_type": "display_data",
          "data": {
            "image/png": "[encoded data removed]",
            "text/plain": [
              "<Figure size 360x360 with 1 Axes>"
            ]
          },
          "metadata": {
            "tags": [],
            "needs_background": "light"
          }
        }
      ]
    },
    {
      "cell_type": "code",
      "metadata": {
        "colab": {
          "base_uri": "https://localhost:8080/",
          "height": 467
        },
        "id": "cbb-sRkz3194",
        "outputId": "2a054348-6697-4472-8e04-c6ea3b442052"
      },
      "source": [
        "pd.crosstab(tr_data['Count_3-6_months_late'][tr_data['Count_3-6_months_late']>0],tr_data['target'])"
      ],
      "execution_count": null,
      "outputs": [
        {
          "output_type": "execute_result",
          "data": {
            "text/html": [
              "<div>\n",
              "<style scoped>\n",
              "    .dataframe tbody tr th:only-of-type {\n",
              "        vertical-align: middle;\n",
              "    }\n",
              "\n",
              "    .dataframe tbody tr th {\n",
              "        vertical-align: top;\n",
              "    }\n",
              "\n",
              "    .dataframe thead th {\n",
              "        text-align: right;\n",
              "    }\n",
              "</style>\n",
              "<table border=\"1\" class=\"dataframe\">\n",
              "  <thead>\n",
              "    <tr style=\"text-align: right;\">\n",
              "      <th>target</th>\n",
              "      <th>0</th>\n",
              "      <th>1</th>\n",
              "    </tr>\n",
              "    <tr>\n",
              "      <th>Count_3-6_months_late</th>\n",
              "      <th></th>\n",
              "      <th></th>\n",
              "    </tr>\n",
              "  </thead>\n",
              "  <tbody>\n",
              "    <tr>\n",
              "      <th>1.0</th>\n",
              "      <td>1153</td>\n",
              "      <td>7673</td>\n",
              "    </tr>\n",
              "    <tr>\n",
              "      <th>2.0</th>\n",
              "      <td>592</td>\n",
              "      <td>1927</td>\n",
              "    </tr>\n",
              "    <tr>\n",
              "      <th>3.0</th>\n",
              "      <td>288</td>\n",
              "      <td>666</td>\n",
              "    </tr>\n",
              "    <tr>\n",
              "      <th>4.0</th>\n",
              "      <td>158</td>\n",
              "      <td>216</td>\n",
              "    </tr>\n",
              "    <tr>\n",
              "      <th>5.0</th>\n",
              "      <td>67</td>\n",
              "      <td>101</td>\n",
              "    </tr>\n",
              "    <tr>\n",
              "      <th>6.0</th>\n",
              "      <td>31</td>\n",
              "      <td>37</td>\n",
              "    </tr>\n",
              "    <tr>\n",
              "      <th>7.0</th>\n",
              "      <td>10</td>\n",
              "      <td>13</td>\n",
              "    </tr>\n",
              "    <tr>\n",
              "      <th>8.0</th>\n",
              "      <td>6</td>\n",
              "      <td>9</td>\n",
              "    </tr>\n",
              "    <tr>\n",
              "      <th>9.0</th>\n",
              "      <td>2</td>\n",
              "      <td>2</td>\n",
              "    </tr>\n",
              "    <tr>\n",
              "      <th>10.0</th>\n",
              "      <td>1</td>\n",
              "      <td>0</td>\n",
              "    </tr>\n",
              "    <tr>\n",
              "      <th>11.0</th>\n",
              "      <td>1</td>\n",
              "      <td>0</td>\n",
              "    </tr>\n",
              "    <tr>\n",
              "      <th>12.0</th>\n",
              "      <td>1</td>\n",
              "      <td>0</td>\n",
              "    </tr>\n",
              "    <tr>\n",
              "      <th>13.0</th>\n",
              "      <td>1</td>\n",
              "      <td>0</td>\n",
              "    </tr>\n",
              "  </tbody>\n",
              "</table>\n",
              "</div>"
            ],
            "text/plain": [
              "target                    0     1\n",
              "Count_3-6_months_late            \n",
              "1.0                    1153  7673\n",
              "2.0                     592  1927\n",
              "3.0                     288   666\n",
              "4.0                     158   216\n",
              "5.0                      67   101\n",
              "6.0                      31    37\n",
              "7.0                      10    13\n",
              "8.0                       6     9\n",
              "9.0                       2     2\n",
              "10.0                      1     0\n",
              "11.0                      1     0\n",
              "12.0                      1     0\n",
              "13.0                      1     0"
            ]
          },
          "metadata": {
            "tags": []
          },
          "execution_count": 30
        }
      ]
    },
    {
      "cell_type": "code",
      "metadata": {
        "colab": {
          "base_uri": "https://localhost:8080/",
          "height": 557
        },
        "id": "6B_6ugZo3-1Q",
        "outputId": "9b421029-1bee-4a8f-b175-127945a412fa"
      },
      "source": [
        "pd.crosstab(tr_data['Count_6-12_months_late'][tr_data['Count_6-12_months_late']>0],tr_data['target'])"
      ],
      "execution_count": null,
      "outputs": [
        {
          "output_type": "execute_result",
          "data": {
            "text/html": [
              "<div>\n",
              "<style scoped>\n",
              "    .dataframe tbody tr th:only-of-type {\n",
              "        vertical-align: middle;\n",
              "    }\n",
              "\n",
              "    .dataframe tbody tr th {\n",
              "        vertical-align: top;\n",
              "    }\n",
              "\n",
              "    .dataframe thead th {\n",
              "        text-align: right;\n",
              "    }\n",
              "</style>\n",
              "<table border=\"1\" class=\"dataframe\">\n",
              "  <thead>\n",
              "    <tr style=\"text-align: right;\">\n",
              "      <th>target</th>\n",
              "      <th>0</th>\n",
              "      <th>1</th>\n",
              "    </tr>\n",
              "    <tr>\n",
              "      <th>Count_6-12_months_late</th>\n",
              "      <th></th>\n",
              "      <th></th>\n",
              "    </tr>\n",
              "  </thead>\n",
              "  <tbody>\n",
              "    <tr>\n",
              "      <th>1.0</th>\n",
              "      <td>828</td>\n",
              "      <td>1852</td>\n",
              "    </tr>\n",
              "    <tr>\n",
              "      <th>2.0</th>\n",
              "      <td>334</td>\n",
              "      <td>359</td>\n",
              "    </tr>\n",
              "    <tr>\n",
              "      <th>3.0</th>\n",
              "      <td>185</td>\n",
              "      <td>132</td>\n",
              "    </tr>\n",
              "    <tr>\n",
              "      <th>4.0</th>\n",
              "      <td>85</td>\n",
              "      <td>45</td>\n",
              "    </tr>\n",
              "    <tr>\n",
              "      <th>5.0</th>\n",
              "      <td>30</td>\n",
              "      <td>16</td>\n",
              "    </tr>\n",
              "    <tr>\n",
              "      <th>6.0</th>\n",
              "      <td>13</td>\n",
              "      <td>13</td>\n",
              "    </tr>\n",
              "    <tr>\n",
              "      <th>7.0</th>\n",
              "      <td>7</td>\n",
              "      <td>4</td>\n",
              "    </tr>\n",
              "    <tr>\n",
              "      <th>8.0</th>\n",
              "      <td>3</td>\n",
              "      <td>2</td>\n",
              "    </tr>\n",
              "    <tr>\n",
              "      <th>9.0</th>\n",
              "      <td>2</td>\n",
              "      <td>2</td>\n",
              "    </tr>\n",
              "    <tr>\n",
              "      <th>10.0</th>\n",
              "      <td>1</td>\n",
              "      <td>3</td>\n",
              "    </tr>\n",
              "    <tr>\n",
              "      <th>11.0</th>\n",
              "      <td>1</td>\n",
              "      <td>1</td>\n",
              "    </tr>\n",
              "    <tr>\n",
              "      <th>12.0</th>\n",
              "      <td>1</td>\n",
              "      <td>0</td>\n",
              "    </tr>\n",
              "    <tr>\n",
              "      <th>13.0</th>\n",
              "      <td>1</td>\n",
              "      <td>1</td>\n",
              "    </tr>\n",
              "    <tr>\n",
              "      <th>14.0</th>\n",
              "      <td>1</td>\n",
              "      <td>1</td>\n",
              "    </tr>\n",
              "    <tr>\n",
              "      <th>15.0</th>\n",
              "      <td>0</td>\n",
              "      <td>1</td>\n",
              "    </tr>\n",
              "    <tr>\n",
              "      <th>17.0</th>\n",
              "      <td>1</td>\n",
              "      <td>0</td>\n",
              "    </tr>\n",
              "  </tbody>\n",
              "</table>\n",
              "</div>"
            ],
            "text/plain": [
              "target                    0     1\n",
              "Count_6-12_months_late           \n",
              "1.0                     828  1852\n",
              "2.0                     334   359\n",
              "3.0                     185   132\n",
              "4.0                      85    45\n",
              "5.0                      30    16\n",
              "6.0                      13    13\n",
              "7.0                       7     4\n",
              "8.0                       3     2\n",
              "9.0                       2     2\n",
              "10.0                      1     3\n",
              "11.0                      1     1\n",
              "12.0                      1     0\n",
              "13.0                      1     1\n",
              "14.0                      1     1\n",
              "15.0                      0     1\n",
              "17.0                      1     0"
            ]
          },
          "metadata": {
            "tags": []
          },
          "execution_count": 31
        }
      ]
    },
    {
      "cell_type": "code",
      "metadata": {
        "colab": {
          "base_uri": "https://localhost:8080/",
          "height": 347
        },
        "id": "yaNZcDsn4NjK",
        "outputId": "aca51e30-1f5c-4aa7-ca10-5595b0b62ab8"
      },
      "source": [
        "pd.crosstab(tr_data['Count_more_than_12_months_late'][tr_data['Count_more_than_12_months_late']>0],tr_data['target'])"
      ],
      "execution_count": null,
      "outputs": [
        {
          "output_type": "execute_result",
          "data": {
            "text/html": [
              "<div>\n",
              "<style scoped>\n",
              "    .dataframe tbody tr th:only-of-type {\n",
              "        vertical-align: middle;\n",
              "    }\n",
              "\n",
              "    .dataframe tbody tr th {\n",
              "        vertical-align: top;\n",
              "    }\n",
              "\n",
              "    .dataframe thead th {\n",
              "        text-align: right;\n",
              "    }\n",
              "</style>\n",
              "<table border=\"1\" class=\"dataframe\">\n",
              "  <thead>\n",
              "    <tr style=\"text-align: right;\">\n",
              "      <th>target</th>\n",
              "      <th>0</th>\n",
              "      <th>1</th>\n",
              "    </tr>\n",
              "    <tr>\n",
              "      <th>Count_more_than_12_months_late</th>\n",
              "      <th></th>\n",
              "      <th></th>\n",
              "    </tr>\n",
              "  </thead>\n",
              "  <tbody>\n",
              "    <tr>\n",
              "      <th>1.0</th>\n",
              "      <td>835</td>\n",
              "      <td>2161</td>\n",
              "    </tr>\n",
              "    <tr>\n",
              "      <th>2.0</th>\n",
              "      <td>228</td>\n",
              "      <td>270</td>\n",
              "    </tr>\n",
              "    <tr>\n",
              "      <th>3.0</th>\n",
              "      <td>85</td>\n",
              "      <td>66</td>\n",
              "    </tr>\n",
              "    <tr>\n",
              "      <th>4.0</th>\n",
              "      <td>25</td>\n",
              "      <td>23</td>\n",
              "    </tr>\n",
              "    <tr>\n",
              "      <th>5.0</th>\n",
              "      <td>7</td>\n",
              "      <td>6</td>\n",
              "    </tr>\n",
              "    <tr>\n",
              "      <th>6.0</th>\n",
              "      <td>4</td>\n",
              "      <td>2</td>\n",
              "    </tr>\n",
              "    <tr>\n",
              "      <th>7.0</th>\n",
              "      <td>2</td>\n",
              "      <td>1</td>\n",
              "    </tr>\n",
              "    <tr>\n",
              "      <th>8.0</th>\n",
              "      <td>1</td>\n",
              "      <td>1</td>\n",
              "    </tr>\n",
              "    <tr>\n",
              "      <th>11.0</th>\n",
              "      <td>1</td>\n",
              "      <td>0</td>\n",
              "    </tr>\n",
              "  </tbody>\n",
              "</table>\n",
              "</div>"
            ],
            "text/plain": [
              "target                            0     1\n",
              "Count_more_than_12_months_late           \n",
              "1.0                             835  2161\n",
              "2.0                             228   270\n",
              "3.0                              85    66\n",
              "4.0                              25    23\n",
              "5.0                               7     6\n",
              "6.0                               4     2\n",
              "7.0                               2     1\n",
              "8.0                               1     1\n",
              "11.0                              1     0"
            ]
          },
          "metadata": {
            "tags": []
          },
          "execution_count": 32
        }
      ]
    },
    {
      "cell_type": "code",
      "metadata": {
        "colab": {
          "base_uri": "https://localhost:8080/",
          "height": 873
        },
        "id": "Rjqc655sA5EB",
        "outputId": "23ed78be-f37a-42c5-c4f3-eac73262c4f3"
      },
      "source": [
        "fig = plt.figure(figsize=(8,12))\n",
        "\n",
        "ax = fig.add_subplot(311)\n",
        "sns.barplot(x = tr_data['Count_3-6_months_late'][tr_data['Count_3-6_months_late']>0], y = tr_data['Income'])\n",
        "plt.title('No of premiums late by 3 to 6 months')\n",
        "\n",
        "\n",
        "ax = fig.add_subplot(312)\n",
        "sns.barplot(x = tr_data['Count_6-12_months_late'][tr_data['Count_6-12_months_late']>0],y = tr_data['Income'])\n",
        "plt.title('No  of premiums late by 6 to 12 months')\n",
        "\n",
        "\n",
        "ax = fig.add_subplot(313)\n",
        "sns.barplot(x = tr_data['Count_more_than_12_months_late'][tr_data['Count_more_than_12_months_late']>0],y = tr_data['Income'])\n",
        "plt.title('No of premiums late by more than 12 months')\n",
        "\n",
        "\n",
        "plt.tight_layout()\n",
        "\n",
        "plt.show()"
      ],
      "execution_count": null,
      "outputs": [
        {
          "output_type": "display_data",
          "data": {
            "image/png": "[encoded data removed]",
            "text/plain": [
              "<Figure size 576x864 with 3 Axes>"
            ]
          },
          "metadata": {
            "tags": [],
            "needs_background": "light"
          }
        }
      ]
    },
    {
      "cell_type": "code",
      "metadata": {
        "colab": {
          "base_uri": "https://localhost:8080/",
          "height": 414
        },
        "id": "H1pqmdNULLBu",
        "outputId": "e814862b-df06-47f2-9172-fa9714eee30e"
      },
      "source": [
        "tr_data.corr()"
      ],
      "execution_count": null,
      "outputs": [
        {
          "output_type": "execute_result",
          "data": {
            "text/html": [
              "<div>\n",
              "<style scoped>\n",
              "    .dataframe tbody tr th:only-of-type {\n",
              "        vertical-align: middle;\n",
              "    }\n",
              "\n",
              "    .dataframe tbody tr th {\n",
              "        vertical-align: top;\n",
              "    }\n",
              "\n",
              "    .dataframe thead th {\n",
              "        text-align: right;\n",
              "    }\n",
              "</style>\n",
              "<table border=\"1\" class=\"dataframe\">\n",
              "  <thead>\n",
              "    <tr style=\"text-align: right;\">\n",
              "      <th></th>\n",
              "      <th>perc_premium_paid_by_cash_credit</th>\n",
              "      <th>age</th>\n",
              "      <th>Income</th>\n",
              "      <th>Count_3-6_months_late</th>\n",
              "      <th>Count_6-12_months_late</th>\n",
              "      <th>Count_more_than_12_months_late</th>\n",
              "      <th>application_underwriting_score</th>\n",
              "      <th>no_of_premiums_paid</th>\n",
              "      <th>sourcing_channel</th>\n",
              "      <th>residence_area_type</th>\n",
              "      <th>target</th>\n",
              "    </tr>\n",
              "  </thead>\n",
              "  <tbody>\n",
              "    <tr>\n",
              "      <th>perc_premium_paid_by_cash_credit</th>\n",
              "      <td>1.000000</td>\n",
              "      <td>-0.259133</td>\n",
              "      <td>-0.031868</td>\n",
              "      <td>0.213011</td>\n",
              "      <td>0.213953</td>\n",
              "      <td>0.167213</td>\n",
              "      <td>-0.138006</td>\n",
              "      <td>-0.152837</td>\n",
              "      <td>0.081999</td>\n",
              "      <td>-0.001562</td>\n",
              "      <td>-0.240980</td>\n",
              "    </tr>\n",
              "    <tr>\n",
              "      <th>age</th>\n",
              "      <td>-0.259133</td>\n",
              "      <td>1.000000</td>\n",
              "      <td>0.029308</td>\n",
              "      <td>-0.057873</td>\n",
              "      <td>-0.072439</td>\n",
              "      <td>-0.059116</td>\n",
              "      <td>0.047949</td>\n",
              "      <td>0.176544</td>\n",
              "      <td>-0.217891</td>\n",
              "      <td>0.000683</td>\n",
              "      <td>0.095100</td>\n",
              "    </tr>\n",
              "    <tr>\n",
              "      <th>Income</th>\n",
              "      <td>-0.031868</td>\n",
              "      <td>0.029308</td>\n",
              "      <td>1.000000</td>\n",
              "      <td>-0.001296</td>\n",
              "      <td>-0.017292</td>\n",
              "      <td>-0.012341</td>\n",
              "      <td>0.062637</td>\n",
              "      <td>0.079078</td>\n",
              "      <td>0.059770</td>\n",
              "      <td>0.003392</td>\n",
              "      <td>0.016541</td>\n",
              "    </tr>\n",
              "    <tr>\n",
              "      <th>Count_3-6_months_late</th>\n",
              "      <td>0.213011</td>\n",
              "      <td>-0.057873</td>\n",
              "      <td>-0.001296</td>\n",
              "      <td>1.000000</td>\n",
              "      <td>0.204286</td>\n",
              "      <td>0.296139</td>\n",
              "      <td>-0.082306</td>\n",
              "      <td>0.076435</td>\n",
              "      <td>0.058741</td>\n",
              "      <td>0.001513</td>\n",
              "      <td>-0.246469</td>\n",
              "    </tr>\n",
              "    <tr>\n",
              "      <th>Count_6-12_months_late</th>\n",
              "      <td>0.213953</td>\n",
              "      <td>-0.072439</td>\n",
              "      <td>-0.017292</td>\n",
              "      <td>0.204286</td>\n",
              "      <td>1.000000</td>\n",
              "      <td>0.266337</td>\n",
              "      <td>0.004581</td>\n",
              "      <td>-0.092593</td>\n",
              "      <td>0.027668</td>\n",
              "      <td>-0.000809</td>\n",
              "      <td>-0.284034</td>\n",
              "    </tr>\n",
              "    <tr>\n",
              "      <th>Count_more_than_12_months_late</th>\n",
              "      <td>0.167213</td>\n",
              "      <td>-0.059116</td>\n",
              "      <td>-0.012341</td>\n",
              "      <td>0.296139</td>\n",
              "      <td>0.266337</td>\n",
              "      <td>1.000000</td>\n",
              "      <td>-0.031527</td>\n",
              "      <td>-0.021409</td>\n",
              "      <td>0.029243</td>\n",
              "      <td>-0.001219</td>\n",
              "      <td>-0.238482</td>\n",
              "    </tr>\n",
              "    <tr>\n",
              "      <th>application_underwriting_score</th>\n",
              "      <td>-0.138006</td>\n",
              "      <td>0.047949</td>\n",
              "      <td>0.062637</td>\n",
              "      <td>-0.082306</td>\n",
              "      <td>0.004581</td>\n",
              "      <td>-0.031527</td>\n",
              "      <td>1.000000</td>\n",
              "      <td>-0.262585</td>\n",
              "      <td>-0.047667</td>\n",
              "      <td>0.004916</td>\n",
              "      <td>0.067333</td>\n",
              "    </tr>\n",
              "    <tr>\n",
              "      <th>no_of_premiums_paid</th>\n",
              "      <td>-0.152837</td>\n",
              "      <td>0.176544</td>\n",
              "      <td>0.079078</td>\n",
              "      <td>0.076435</td>\n",
              "      <td>-0.092593</td>\n",
              "      <td>-0.021409</td>\n",
              "      <td>-0.262585</td>\n",
              "      <td>1.000000</td>\n",
              "      <td>0.040874</td>\n",
              "      <td>0.003447</td>\n",
              "      <td>0.022664</td>\n",
              "    </tr>\n",
              "    <tr>\n",
              "      <th>sourcing_channel</th>\n",
              "      <td>0.081999</td>\n",
              "      <td>-0.217891</td>\n",
              "      <td>0.059770</td>\n",
              "      <td>0.058741</td>\n",
              "      <td>0.027668</td>\n",
              "      <td>0.029243</td>\n",
              "      <td>-0.047667</td>\n",
              "      <td>0.040874</td>\n",
              "      <td>1.000000</td>\n",
              "      <td>-0.002067</td>\n",
              "      <td>-0.041557</td>\n",
              "    </tr>\n",
              "    <tr>\n",
              "      <th>residence_area_type</th>\n",
              "      <td>-0.001562</td>\n",
              "      <td>0.000683</td>\n",
              "      <td>0.003392</td>\n",
              "      <td>0.001513</td>\n",
              "      <td>-0.000809</td>\n",
              "      <td>-0.001219</td>\n",
              "      <td>0.004916</td>\n",
              "      <td>0.003447</td>\n",
              "      <td>-0.002067</td>\n",
              "      <td>1.000000</td>\n",
              "      <td>0.001667</td>\n",
              "    </tr>\n",
              "    <tr>\n",
              "      <th>target</th>\n",
              "      <td>-0.240980</td>\n",
              "      <td>0.095100</td>\n",
              "      <td>0.016541</td>\n",
              "      <td>-0.246469</td>\n",
              "      <td>-0.284034</td>\n",
              "      <td>-0.238482</td>\n",
              "      <td>0.067333</td>\n",
              "      <td>0.022664</td>\n",
              "      <td>-0.041557</td>\n",
              "      <td>0.001667</td>\n",
              "      <td>1.000000</td>\n",
              "    </tr>\n",
              "  </tbody>\n",
              "</table>\n",
              "</div>"
            ],
            "text/plain": [
              "                                  perc_premium_paid_by_cash_credit  ...    target\n",
              "perc_premium_paid_by_cash_credit                          1.000000  ... -0.240980\n",
              "age                                                      -0.259133  ...  0.095100\n",
              "Income                                                   -0.031868  ...  0.016541\n",
              "Count_3-6_months_late                                     0.213011  ... -0.246469\n",
              "Count_6-12_months_late                                    0.213953  ... -0.284034\n",
              "Count_more_than_12_months_late                            0.167213  ... -0.238482\n",
              "application_underwriting_score                           -0.138006  ...  0.067333\n",
              "no_of_premiums_paid                                      -0.152837  ...  0.022664\n",
              "sourcing_channel                                          0.081999  ... -0.041557\n",
              "residence_area_type                                      -0.001562  ...  0.001667\n",
              "target                                                   -0.240980  ...  1.000000\n",
              "\n",
              "[11 rows x 11 columns]"
            ]
          },
          "metadata": {
            "tags": []
          },
          "execution_count": 30
        }
      ]
    },
    {
      "cell_type": "code",
      "metadata": {
        "colab": {
          "base_uri": "https://localhost:8080/",
          "height": 468
        },
        "id": "tWTtrM_ELkr2",
        "outputId": "9b090c54-529f-40b2-fac7-460cc7d0b261"
      },
      "source": [
        "corr = tr_data.corr()\n",
        "plt.figure(figsize=(20,10))\n",
        "sns.heatmap(corr,annot=True)"
      ],
      "execution_count": null,
      "outputs": [
        {
          "output_type": "execute_result",
          "data": {
            "text/plain": [
              "<matplotlib.axes._subplots.AxesSubplot at 0x7f7d8bf7d050>"
            ]
          },
          "metadata": {
            "tags": []
          },
          "execution_count": 31
        },
        {
          "output_type": "display_data",
          "data": {
            "image/png": "[encoded data removed]",
            "text/plain": [
              "<Figure size 1440x720 with 2 Axes>"
            ]
          },
          "metadata": {
            "tags": [],
            "needs_background": "light"
          }
        }
      ]
    },
    {
      "cell_type": "code",
      "metadata": {
        "id": "yNGQpzrma_Pd"
      },
      "source": [
        "tr_data = pd.get_dummies(tr_data)"
      ],
      "execution_count": null,
      "outputs": []
    },
    {
      "cell_type": "code",
      "metadata": {
        "id": "2xAnlxTbbhRH"
      },
      "source": [
        "ts_data = pd.get_dummies(ts_data)"
      ],
      "execution_count": null,
      "outputs": []
    },
    {
      "cell_type": "code",
      "metadata": {
        "id": "bdhabwiGTSkx"
      },
      "source": [
        "x = tr_data.drop('target',axis=1)"
      ],
      "execution_count": null,
      "outputs": []
    },
    {
      "cell_type": "code",
      "metadata": {
        "id": "hX0MELkeTh6I"
      },
      "source": [
        "y = tr_data['target']"
      ],
      "execution_count": null,
      "outputs": []
    },
    {
      "cell_type": "code",
      "metadata": {
        "id": "OefWmVCuelg1"
      },
      "source": [
        "ids = ts_data['id']"
      ],
      "execution_count": null,
      "outputs": []
    },
    {
      "cell_type": "code",
      "metadata": {
        "id": "IGkeRk5gROig"
      },
      "source": [
        "from sklearn.model_selection import train_test_split"
      ],
      "execution_count": null,
      "outputs": []
    },
    {
      "cell_type": "code",
      "metadata": {
        "id": "6C9H85TPRNZH"
      },
      "source": [
        "xtrain, xtest, ytrain, ytest = train_test_split(x, y, test_size = 0.30, random_state = 42)"
      ],
      "execution_count": null,
      "outputs": []
    },
    {
      "cell_type": "code",
      "metadata": {
        "colab": {
          "base_uri": "https://localhost:8080/"
        },
        "id": "FI8eNECPUILN",
        "outputId": "128185b8-0a1a-4d67-8eb3-7d54641f8104"
      },
      "source": [
        "xtrain.shape, xtest.shape, ytrain.shape, ytest.shape"
      ],
      "execution_count": null,
      "outputs": [
        {
          "output_type": "execute_result",
          "data": {
            "text/plain": [
              "((55897, 16), (23956, 16), (55897,), (23956,))"
            ]
          },
          "metadata": {
            "tags": []
          },
          "execution_count": 17
        }
      ]
    },
    {
      "cell_type": "markdown",
      "metadata": {
        "id": "pZ4F1Ht-U3cn"
      },
      "source": [
        "LinearRegression "
      ]
    },
    {
      "cell_type": "code",
      "metadata": {
        "id": "vsaQph0tUPLk"
      },
      "source": [
        "from sklearn.linear_model import LinearRegression\n",
        "from sklearn.metrics import accuracy_score\n",
        "\n",
        "lr_model = LinearRegression()\n",
        "\n",
        "lr_model.fit(xtrain,ytrain)\n",
        "pred = lr_model.predict(xtest)"
      ],
      "execution_count": null,
      "outputs": []
    },
    {
      "cell_type": "code",
      "metadata": {
        "colab": {
          "base_uri": "https://localhost:8080/"
        },
        "id": "dwdwQGqNViW2",
        "outputId": "95347e14-49ce-4d54-94ad-d3d382a581d2"
      },
      "source": [
        "lr_model.score(xtest,ytest)"
      ],
      "execution_count": null,
      "outputs": [
        {
          "output_type": "execute_result",
          "data": {
            "text/plain": [
              "0.1683307992057792"
            ]
          },
          "metadata": {
            "tags": []
          },
          "execution_count": 19
        }
      ]
    },
    {
      "cell_type": "code",
      "metadata": {
        "colab": {
          "base_uri": "https://localhost:8080/"
        },
        "id": "2CjJzoLPVscv",
        "outputId": "d18cb482-1a7d-4482-df74-dd652201609d"
      },
      "source": [
        "lr_model.score(xtrain,ytrain)"
      ],
      "execution_count": null,
      "outputs": [
        {
          "output_type": "execute_result",
          "data": {
            "text/plain": [
              "0.1500183306346532"
            ]
          },
          "metadata": {
            "tags": []
          },
          "execution_count": 20
        }
      ]
    },
    {
      "cell_type": "code",
      "metadata": {
        "colab": {
          "base_uri": "https://localhost:8080/"
        },
        "id": "NzBezeKZcxUS",
        "outputId": "d3c9127d-f4bf-463f-f249-0cfae53c572e"
      },
      "source": [
        "from sklearn.tree import DecisionTreeClassifier\n",
        "\n",
        "clf=DecisionTreeClassifier(max_depth=25, random_state=15, class_weight={1:1,0:19.9769}, min_weight_fraction_leaf=0.40, max_leaf_nodes=50, min_impurity_decrease= 0.009)\n",
        "\n",
        "clf.fit(x,y)\n",
        "clf.score(x,y)"
      ],
      "execution_count": null,
      "outputs": [
        {
          "output_type": "execute_result",
          "data": {
            "text/plain": [
              "0.7039434961742201"
            ]
          },
          "metadata": {
            "tags": []
          },
          "execution_count": 21
        }
      ]
    },
    {
      "cell_type": "code",
      "metadata": {
        "colab": {
          "base_uri": "https://localhost:8080/"
        },
        "id": "s0yYoasUdd-9",
        "outputId": "4b253731-8098-4e9a-e9e2-2162023d6c34"
      },
      "source": [
        "clf.predict(ts_data)"
      ],
      "execution_count": null,
      "outputs": [
        {
          "output_type": "execute_result",
          "data": {
            "text/plain": [
              "array([1, 1, 0, ..., 1, 0, 1])"
            ]
          },
          "metadata": {
            "tags": []
          },
          "execution_count": 22
        }
      ]
    },
    {
      "cell_type": "code",
      "metadata": {
        "id": "RVmKVR38d3NF"
      },
      "source": [
        "prediction=clf.predict(ts_data)"
      ],
      "execution_count": null,
      "outputs": []
    },
    {
      "cell_type": "code",
      "metadata": {
        "id": "exrzpvGvd89-"
      },
      "source": [
        "sub = pd.DataFrame()"
      ],
      "execution_count": null,
      "outputs": []
    },
    {
      "cell_type": "code",
      "metadata": {
        "id": "ZnczG2LMeCgE"
      },
      "source": [
        "sub['id'] = ids"
      ],
      "execution_count": null,
      "outputs": []
    },
    {
      "cell_type": "code",
      "metadata": {
        "id": "6_OnjQy7eHPO"
      },
      "source": [
        "sub['target'] = prediction"
      ],
      "execution_count": null,
      "outputs": []
    },
    {
      "cell_type": "code",
      "metadata": {
        "colab": {
          "base_uri": "https://localhost:8080/"
        },
        "id": "IpQR0_6hgMMn",
        "outputId": "98cb03b6-8c95-4711-afd4-1c7e411bac9b"
      },
      "source": [
        "prediction"
      ],
      "execution_count": null,
      "outputs": [
        {
          "output_type": "execute_result",
          "data": {
            "text/plain": [
              "array([1, 1, 0, ..., 1, 0, 1])"
            ]
          },
          "metadata": {
            "tags": []
          },
          "execution_count": 27
        }
      ]
    },
    {
      "cell_type": "code",
      "metadata": {
        "id": "rFv-21oMgOMN"
      },
      "source": [
        "sub.to_csv('submission.csv', header=True, index=False)"
      ],
      "execution_count": null,
      "outputs": []
    },
    {
      "cell_type": "code",
      "metadata": {
        "id": "xQgHKHDjgTny"
      },
      "source": [
        ""
      ],
      "execution_count": null,
      "outputs": []
    }
  ]
}